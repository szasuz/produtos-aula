{
  "cells": [
    {
      "cell_type": "markdown",
      "metadata": {
        "id": "view-in-github",
        "colab_type": "text"
      },
      "source": [
        "<a href=\"https://colab.research.google.com/github/szasuz/produtos-aula/blob/main/Ol%C3%A1%2C_este_%C3%A9_o_Colaboratory.ipynb\" target=\"_parent\"><img src=\"https://colab.research.google.com/assets/colab-badge.svg\" alt=\"Open In Colab\"/></a>"
      ]
    },
    {
      "cell_type": "markdown",
      "source": [],
      "metadata": {
        "id": "Hmt9aJ4QiJ6-"
      }
    },
    {
      "cell_type": "code",
      "source": [
        "carro = input('Digite o nome do carro: ')\n",
        "if carro == 'Corolla':\n",
        " print('Belo Carro')\n",
        "print('Boa escolha!')"
      ],
      "metadata": {
        "id": "vTxYeaSliLNd",
        "outputId": "49abbb63-c679-4837-979f-2b55412e6565",
        "colab": {
          "base_uri": "https://localhost:8080/"
        }
      },
      "execution_count": 6,
      "outputs": [
        {
          "output_type": "stream",
          "name": "stdout",
          "text": [
            "Digite o nome do carro: brasilia\n",
            "Boa escolha!\n"
          ]
        }
      ]
    },
    {
      "cell_type": "code",
      "source": [
        "n1 = float(input('Digite Nota 1:'))\n",
        "n2 = float(input('Digite Nota 2:'))\n",
        "media = (n1+n2)/2\n",
        "freq = float(input('Digite freq: '))\n",
        "if media >= 6 and freq>=0.75:\n",
        "  print('Média = ', media)\n",
        "print('Aprovado')"
      ],
      "metadata": {
        "id": "H1y1u_wvi8G_",
        "outputId": "d646fd83-46af-45fd-e5b0-cc5160d5f856",
        "colab": {
          "base_uri": "https://localhost:8080/"
        }
      },
      "execution_count": 9,
      "outputs": [
        {
          "output_type": "stream",
          "name": "stdout",
          "text": [
            "Digite Nota 1:8\n",
            "Digite Nota 2:7\n",
            "Digite freq: 0.2\n",
            "Aprovado\n"
          ]
        }
      ]
    },
    {
      "cell_type": "code",
      "source": [
        "num = int(input('Digite o numero: '))\n",
        "\n",
        "num = (num %2)\n",
        "\n",
        "if num == 0:\n",
        "  print('Par')\n",
        "\n",
        "else:\n",
        "  print('Impar')\n",
        "\n"
      ],
      "metadata": {
        "id": "SERupA84nJeP",
        "outputId": "c015e974-5875-48c1-b632-0e92a9f5f9d9",
        "colab": {
          "base_uri": "https://localhost:8080/"
        }
      },
      "execution_count": 12,
      "outputs": [
        {
          "output_type": "stream",
          "name": "stdout",
          "text": [
            "Digite o numero: 10\n",
            "Par\n"
          ]
        }
      ]
    },
    {
      "cell_type": "code",
      "source": [
        "from math import sqrt\n",
        "\n",
        "num = float(input('Digite o numero: '))\n",
        "\n",
        "if num >= 0:\n",
        "    raiz_quadrada = sqrt(num)\n",
        "    print(f\"A raiz quadrada de {num} é {raiz_quadrada: .2f}.\")\n",
        "else:\n",
        "    print(\"Não existe raiz real para este número!\")"
      ],
      "metadata": {
        "id": "tZIMJ8SYrQ6-",
        "outputId": "4ad55975-5199-4b52-a005-f08b1cce065d",
        "colab": {
          "base_uri": "https://localhost:8080/"
        }
      },
      "execution_count": 15,
      "outputs": [
        {
          "output_type": "stream",
          "name": "stdout",
          "text": [
            "Digite o numero: 4\n",
            "A raiz quadrada de 4.0 é  2.00.\n"
          ]
        }
      ]
    },
    {
      "cell_type": "code",
      "source": [
        "comp = float(input('Digite o comprimento em cm: '))\n",
        "larg = float(input('Digite a largura em cm: '))\n",
        "\n",
        "if comp <= 66 and larg <= 50:\n",
        "      tamanho = \"PP\"\n",
        "elif comp <= 70 and larg <= 54:\n",
        "      tamanho = \"P\"\n",
        "elif comp <= 72 and larg <= 56:\n",
        "      tamanho = \"M\"\n",
        "elif comp <= 74 and larg <= 58:\n",
        "      tamanho = \"G\"\n",
        "elif comp <= 76 and larg <= 60:\n",
        "      tamanho = \"GG\"\n",
        "elif comp <= 79 and larg <= 63:\n",
        "      tamanho = \"XGG\"\n",
        "\n",
        "print(tamanho)\n",
        ""
      ],
      "metadata": {
        "id": "XYxIimaitvJv",
        "outputId": "95df76a4-c561-412a-9e8b-e021a50e8bdb",
        "colab": {
          "base_uri": "https://localhost:8080/"
        }
      },
      "execution_count": 16,
      "outputs": [
        {
          "output_type": "stream",
          "name": "stdout",
          "text": [
            "Digite o comprimento em cm: 74\n",
            "Digite a largura em cm: 58\n",
            "G\n"
          ]
        }
      ]
    }
  ],
  "metadata": {
    "colab": {
      "name": "Olá, este é o Colaboratory",
      "toc_visible": true,
      "provenance": [],
      "include_colab_link": true
    },
    "kernelspec": {
      "display_name": "Python 3",
      "name": "python3"
    }
  },
  "nbformat": 4,
  "nbformat_minor": 0
}